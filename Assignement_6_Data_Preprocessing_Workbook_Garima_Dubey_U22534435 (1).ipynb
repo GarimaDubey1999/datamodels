{
 "cells": [
  {
   "cell_type": "markdown",
   "id": "554c618e",
   "metadata": {},
   "source": [
    "## Assignment 6"
   ]
  },
  {
   "cell_type": "markdown",
   "id": "da3849db",
   "metadata": {},
   "source": [
    "# Data Pre-processing Notebook "
   ]
  },
  {
   "cell_type": "code",
   "execution_count": 474,
   "id": "d23a1410",
   "metadata": {},
   "outputs": [],
   "source": [
    "#importing libraries\n",
    "import pandas as pd\n",
    "import seaborn as sns\n"
   ]
  },
  {
   "cell_type": "markdown",
   "id": "7055c17c",
   "metadata": {},
   "source": [
    "### Loading the dataset"
   ]
  },
  {
   "cell_type": "markdown",
   "id": "98feba22",
   "metadata": {},
   "source": [
    "### About the  uniqueness of data \n",
    "\n",
    "#### The dataset that I have used is related to the prediction of whether a person is positive or negative for a specific medical condition called 'diabetes'. Here are some observations regarding the uniqueness and characteristics of the data:\n",
    "\n",
    "#### Binary Classification Problem: The dataset is structured as a binary classification problem, where the goal is to predict whether a person is \"Positive\" or \"Negative\" for a particular medical condition. Binary classification is a common task in machine learning.\n",
    "\n",
    "#### Categorical Features: The dataset primarily consists of categorical features. These features describe the presence or absence of specific symptoms or medical indicators, such as \"Polyuria,\" \"Polydipsia,\" \"sudden weight loss,\" and others. The \"Gender\" column represents the gender of the patients.\n",
    "\n",
    "#### Numerical Feature (Age): The \"Age\" column is a numerical feature, indicating the age of the patients. This feature can provide valuable information for the classification task.\n",
    "\n",
    "#### Binary Values: Most of the features are binary (Yes/No), which makes the dataset interpretable and well-suited for models like logistic regression. These binary values indicate the presence (Yes) or absence (No) of specific symptoms or conditions.\n",
    "\n",
    "#### Predictive Power: The presence or absence of certain symptoms, along with the age of the patient, is likely to be crucial in predicting the outcome (Positive or Negative). Identifying which symptoms are most indicative of the condition can be essential for diagnosis and treatment.\n",
    "\n",
    "#### Domain Relevance: In the context of medical diagnosis, domain knowledge and expertise are often essential for understanding the clinical significance of the features and how they relate to the condition being predicted.\n",
    "\n",
    "#### Sample Size: The dataset consists of 523 rows or samples. This is a moderate-sized dataset, which is generally large enough to train machine learning models effectively, especially for binary classification tasks.\n",
    "\n",
    "#### Feature Dimensionality: There are 17 columns or features in the dataset, which include attributes such as age, gender, and various symptoms or medical indicators. The feature dimensionality is relatively modest, making it manageable for modeling.\n",
    "\n",
    "#### Balanced Dataset: To assess whether the dataset is balanced, it's essential to check the distribution of the target variable, \"class\" (Positive or Negative). If there is a roughly equal distribution of \"Positive\" and \"Negative\" cases, it's a balanced dataset, which is ideal for training machine learning models.\n",
    "\n",
    "#### Model Complexity: The dataset's size is well-suited for training a variety of machine learning models, ranging from simple models like logistic regression to more complex models such as decision trees, random forests, and support vector machines.\n",
    "\n",
    "#### The uniqueness of the data lies in its specific focus on symptoms and medical indicators to predict the medical condition. The success of the predictive model will depend on various factors, including data quality, feature selection, and the chosen machine learning approach."
   ]
  },
  {
   "cell_type": "code",
   "execution_count": 443,
   "id": "72a44717",
   "metadata": {},
   "outputs": [],
   "source": [
    "diabetes_dataset=pd.read_csv('C:/Users/garim/OneDrive/diabetes_data_upload_new.csv')"
   ]
  },
  {
   "cell_type": "code",
   "execution_count": 444,
   "id": "0807e19b",
   "metadata": {
    "scrolled": true
   },
   "outputs": [
    {
     "data": {
      "text/html": [
       "<div>\n",
       "<style scoped>\n",
       "    .dataframe tbody tr th:only-of-type {\n",
       "        vertical-align: middle;\n",
       "    }\n",
       "\n",
       "    .dataframe tbody tr th {\n",
       "        vertical-align: top;\n",
       "    }\n",
       "\n",
       "    .dataframe thead th {\n",
       "        text-align: right;\n",
       "    }\n",
       "</style>\n",
       "<table border=\"1\" class=\"dataframe\">\n",
       "  <thead>\n",
       "    <tr style=\"text-align: right;\">\n",
       "      <th></th>\n",
       "      <th>Age</th>\n",
       "      <th>Gender</th>\n",
       "      <th>Polyuria</th>\n",
       "      <th>Polydipsia</th>\n",
       "      <th>sudden weight loss</th>\n",
       "      <th>weakness</th>\n",
       "      <th>Polyphagia</th>\n",
       "      <th>Genital thrush</th>\n",
       "      <th>visual blurring</th>\n",
       "      <th>Itching</th>\n",
       "      <th>Irritability</th>\n",
       "      <th>delayed healing</th>\n",
       "      <th>partial paresis</th>\n",
       "      <th>muscle stiffness</th>\n",
       "      <th>Alopecia</th>\n",
       "      <th>Obesity</th>\n",
       "      <th>class</th>\n",
       "    </tr>\n",
       "  </thead>\n",
       "  <tbody>\n",
       "    <tr>\n",
       "      <th>0</th>\n",
       "      <td>40</td>\n",
       "      <td>Male</td>\n",
       "      <td>No</td>\n",
       "      <td>Yes</td>\n",
       "      <td>No</td>\n",
       "      <td>Yes</td>\n",
       "      <td>No</td>\n",
       "      <td>No</td>\n",
       "      <td>No</td>\n",
       "      <td>Yes</td>\n",
       "      <td>No</td>\n",
       "      <td>Yes</td>\n",
       "      <td>No</td>\n",
       "      <td>Yes</td>\n",
       "      <td>Yes</td>\n",
       "      <td>Yes</td>\n",
       "      <td>Positive</td>\n",
       "    </tr>\n",
       "    <tr>\n",
       "      <th>1</th>\n",
       "      <td>58</td>\n",
       "      <td>Male</td>\n",
       "      <td>No</td>\n",
       "      <td>No</td>\n",
       "      <td>No</td>\n",
       "      <td>Yes</td>\n",
       "      <td>No</td>\n",
       "      <td>No</td>\n",
       "      <td>Yes</td>\n",
       "      <td>No</td>\n",
       "      <td>No</td>\n",
       "      <td>No</td>\n",
       "      <td>Yes</td>\n",
       "      <td>No</td>\n",
       "      <td>Yes</td>\n",
       "      <td>No</td>\n",
       "      <td>Positive</td>\n",
       "    </tr>\n",
       "    <tr>\n",
       "      <th>2</th>\n",
       "      <td>41</td>\n",
       "      <td>Male</td>\n",
       "      <td>Yes</td>\n",
       "      <td>No</td>\n",
       "      <td>No</td>\n",
       "      <td>Yes</td>\n",
       "      <td>Yes</td>\n",
       "      <td>No</td>\n",
       "      <td>No</td>\n",
       "      <td>Yes</td>\n",
       "      <td>No</td>\n",
       "      <td>Yes</td>\n",
       "      <td>No</td>\n",
       "      <td>Yes</td>\n",
       "      <td>Yes</td>\n",
       "      <td>No</td>\n",
       "      <td>Positive</td>\n",
       "    </tr>\n",
       "    <tr>\n",
       "      <th>3</th>\n",
       "      <td>45</td>\n",
       "      <td>Male</td>\n",
       "      <td>No</td>\n",
       "      <td>No</td>\n",
       "      <td>Yes</td>\n",
       "      <td>Yes</td>\n",
       "      <td>Yes</td>\n",
       "      <td>Yes</td>\n",
       "      <td>No</td>\n",
       "      <td>Yes</td>\n",
       "      <td>No</td>\n",
       "      <td>Yes</td>\n",
       "      <td>No</td>\n",
       "      <td>No</td>\n",
       "      <td>No</td>\n",
       "      <td>No</td>\n",
       "      <td>Positive</td>\n",
       "    </tr>\n",
       "    <tr>\n",
       "      <th>4</th>\n",
       "      <td>60</td>\n",
       "      <td>Male</td>\n",
       "      <td>Yes</td>\n",
       "      <td>Yes</td>\n",
       "      <td>Yes</td>\n",
       "      <td>Yes</td>\n",
       "      <td>Yes</td>\n",
       "      <td>No</td>\n",
       "      <td>Yes</td>\n",
       "      <td>Yes</td>\n",
       "      <td>Yes</td>\n",
       "      <td>Yes</td>\n",
       "      <td>Yes</td>\n",
       "      <td>Yes</td>\n",
       "      <td>Yes</td>\n",
       "      <td>Yes</td>\n",
       "      <td>Positive</td>\n",
       "    </tr>\n",
       "  </tbody>\n",
       "</table>\n",
       "</div>"
      ],
      "text/plain": [
       "   Age Gender Polyuria Polydipsia sudden weight loss weakness Polyphagia  \\\n",
       "0   40   Male       No        Yes                 No      Yes         No   \n",
       "1   58   Male       No         No                 No      Yes         No   \n",
       "2   41   Male      Yes         No                 No      Yes        Yes   \n",
       "3   45   Male       No         No                Yes      Yes        Yes   \n",
       "4   60   Male      Yes        Yes                Yes      Yes        Yes   \n",
       "\n",
       "  Genital thrush visual blurring Itching Irritability delayed healing  \\\n",
       "0             No              No     Yes           No             Yes   \n",
       "1             No             Yes      No           No              No   \n",
       "2             No              No     Yes           No             Yes   \n",
       "3            Yes              No     Yes           No             Yes   \n",
       "4             No             Yes     Yes          Yes             Yes   \n",
       "\n",
       "  partial paresis muscle stiffness Alopecia Obesity     class  \n",
       "0              No              Yes      Yes     Yes  Positive  \n",
       "1             Yes               No      Yes      No  Positive  \n",
       "2              No              Yes      Yes      No  Positive  \n",
       "3              No               No       No      No  Positive  \n",
       "4             Yes              Yes      Yes     Yes  Positive  "
      ]
     },
     "execution_count": 444,
     "metadata": {},
     "output_type": "execute_result"
    }
   ],
   "source": [
    "diabetes_dataset.head()"
   ]
  },
  {
   "cell_type": "code",
   "execution_count": 445,
   "id": "ec2b93f9",
   "metadata": {},
   "outputs": [
    {
     "data": {
      "text/plain": [
       "(523, 17)"
      ]
     },
     "execution_count": 445,
     "metadata": {},
     "output_type": "execute_result"
    }
   ],
   "source": [
    "### checking the  dimension of the dataset\n",
    "diabetes_dataset.shape"
   ]
  },
  {
   "cell_type": "code",
   "execution_count": 446,
   "id": "4846f385",
   "metadata": {},
   "outputs": [
    {
     "data": {
      "text/html": [
       "<div>\n",
       "<style scoped>\n",
       "    .dataframe tbody tr th:only-of-type {\n",
       "        vertical-align: middle;\n",
       "    }\n",
       "\n",
       "    .dataframe tbody tr th {\n",
       "        vertical-align: top;\n",
       "    }\n",
       "\n",
       "    .dataframe thead th {\n",
       "        text-align: right;\n",
       "    }\n",
       "</style>\n",
       "<table border=\"1\" class=\"dataframe\">\n",
       "  <thead>\n",
       "    <tr style=\"text-align: right;\">\n",
       "      <th></th>\n",
       "      <th>Age</th>\n",
       "    </tr>\n",
       "  </thead>\n",
       "  <tbody>\n",
       "    <tr>\n",
       "      <th>count</th>\n",
       "      <td>523.000000</td>\n",
       "    </tr>\n",
       "    <tr>\n",
       "      <th>mean</th>\n",
       "      <td>48.017208</td>\n",
       "    </tr>\n",
       "    <tr>\n",
       "      <th>std</th>\n",
       "      <td>12.129951</td>\n",
       "    </tr>\n",
       "    <tr>\n",
       "      <th>min</th>\n",
       "      <td>16.000000</td>\n",
       "    </tr>\n",
       "    <tr>\n",
       "      <th>25%</th>\n",
       "      <td>39.000000</td>\n",
       "    </tr>\n",
       "    <tr>\n",
       "      <th>50%</th>\n",
       "      <td>47.000000</td>\n",
       "    </tr>\n",
       "    <tr>\n",
       "      <th>75%</th>\n",
       "      <td>57.000000</td>\n",
       "    </tr>\n",
       "    <tr>\n",
       "      <th>max</th>\n",
       "      <td>90.000000</td>\n",
       "    </tr>\n",
       "  </tbody>\n",
       "</table>\n",
       "</div>"
      ],
      "text/plain": [
       "              Age\n",
       "count  523.000000\n",
       "mean    48.017208\n",
       "std     12.129951\n",
       "min     16.000000\n",
       "25%     39.000000\n",
       "50%     47.000000\n",
       "75%     57.000000\n",
       "max     90.000000"
      ]
     },
     "execution_count": 446,
     "metadata": {},
     "output_type": "execute_result"
    }
   ],
   "source": [
    "### checking the statistical value of the dataset\n",
    "diabetes_dataset.describe()"
   ]
  },
  {
   "cell_type": "markdown",
   "id": "76a19507",
   "metadata": {},
   "source": [
    "## Data Preprocessing  & Cleaning \n",
    "\n",
    "### Data preprocessing is a crucial phase in the data science and machine learning pipeline. It involves cleaning, transforming, and organizing data to make it suitable for analysis and modeling. Two fundamental components of data preprocessing are feature engineering and exploratory data analysis (EDA).\n",
    "\n"
   ]
  },
  {
   "cell_type": "markdown",
   "id": "3e7e07bc",
   "metadata": {},
   "source": [
    "### 1. Checking Data Type of each column\n",
    "\n",
    "#### It is a very cruicial step to check the data type of each column in the data set so as to know  whether the data is categorical or numerical and take action accordingly."
   ]
  },
  {
   "cell_type": "code",
   "execution_count": 447,
   "id": "9bfb581e",
   "metadata": {},
   "outputs": [
    {
     "name": "stdout",
     "output_type": "stream",
     "text": [
      "<class 'pandas.core.frame.DataFrame'>\n",
      "RangeIndex: 523 entries, 0 to 522\n",
      "Data columns (total 17 columns):\n",
      " #   Column              Non-Null Count  Dtype \n",
      "---  ------              --------------  ----- \n",
      " 0   Age                 523 non-null    int64 \n",
      " 1   Gender              523 non-null    object\n",
      " 2   Polyuria            521 non-null    object\n",
      " 3   Polydipsia          522 non-null    object\n",
      " 4   sudden weight loss  520 non-null    object\n",
      " 5   weakness            523 non-null    object\n",
      " 6   Polyphagia          523 non-null    object\n",
      " 7   Genital thrush      523 non-null    object\n",
      " 8   visual blurring     523 non-null    object\n",
      " 9   Itching             523 non-null    object\n",
      " 10  Irritability        523 non-null    object\n",
      " 11  delayed healing     521 non-null    object\n",
      " 12  partial paresis     520 non-null    object\n",
      " 13  muscle stiffness    523 non-null    object\n",
      " 14  Alopecia            523 non-null    object\n",
      " 15  Obesity             523 non-null    object\n",
      " 16  class               523 non-null    object\n",
      "dtypes: int64(1), object(16)\n",
      "memory usage: 69.6+ KB\n"
     ]
    }
   ],
   "source": [
    "diabetes_dataset.info()"
   ]
  },
  {
   "cell_type": "markdown",
   "id": "5ba18d85",
   "metadata": {},
   "source": [
    "### 2.Checking the number of unique values of each column of the categorical data\n",
    "\n",
    "####  This to ensure that there is no unexpected/unusual entry in the dataset."
   ]
  },
  {
   "cell_type": "code",
   "execution_count": 448,
   "id": "530e845e",
   "metadata": {},
   "outputs": [
    {
     "data": {
      "text/plain": [
       "array(['Male', 'Female'], dtype=object)"
      ]
     },
     "execution_count": 448,
     "metadata": {},
     "output_type": "execute_result"
    }
   ],
   "source": [
    "### checking all the categorical value of the dataset\n",
    "diabetes_dataset['Gender'].unique()"
   ]
  },
  {
   "cell_type": "code",
   "execution_count": 449,
   "id": "b028806b",
   "metadata": {},
   "outputs": [
    {
     "data": {
      "text/plain": [
       "array(['No', 'Yes', nan], dtype=object)"
      ]
     },
     "execution_count": 449,
     "metadata": {},
     "output_type": "execute_result"
    }
   ],
   "source": [
    "diabetes_dataset['Polyuria'].unique()"
   ]
  },
  {
   "cell_type": "code",
   "execution_count": 450,
   "id": "61334d22",
   "metadata": {},
   "outputs": [
    {
     "data": {
      "text/plain": [
       "array(['Yes', 'No', nan], dtype=object)"
      ]
     },
     "execution_count": 450,
     "metadata": {},
     "output_type": "execute_result"
    }
   ],
   "source": [
    "diabetes_dataset['Polydipsia'].unique()"
   ]
  },
  {
   "cell_type": "code",
   "execution_count": 451,
   "id": "5e41366a",
   "metadata": {},
   "outputs": [
    {
     "data": {
      "text/plain": [
       "array(['No', 'Yes', nan], dtype=object)"
      ]
     },
     "execution_count": 451,
     "metadata": {},
     "output_type": "execute_result"
    }
   ],
   "source": [
    "diabetes_dataset['sudden weight loss'].unique()"
   ]
  },
  {
   "cell_type": "code",
   "execution_count": 452,
   "id": "4e74e84c",
   "metadata": {},
   "outputs": [
    {
     "data": {
      "text/plain": [
       "array(['Yes', 'No'], dtype=object)"
      ]
     },
     "execution_count": 452,
     "metadata": {},
     "output_type": "execute_result"
    }
   ],
   "source": [
    "diabetes_dataset['weakness'].unique()"
   ]
  },
  {
   "cell_type": "code",
   "execution_count": 453,
   "id": "5add7e19",
   "metadata": {},
   "outputs": [
    {
     "data": {
      "text/plain": [
       "array(['No', 'Yes'], dtype=object)"
      ]
     },
     "execution_count": 453,
     "metadata": {},
     "output_type": "execute_result"
    }
   ],
   "source": [
    "diabetes_dataset['Polyphagia'].unique()"
   ]
  },
  {
   "cell_type": "code",
   "execution_count": 454,
   "id": "fd56834d",
   "metadata": {},
   "outputs": [
    {
     "data": {
      "text/plain": [
       "array(['No', 'Yes'], dtype=object)"
      ]
     },
     "execution_count": 454,
     "metadata": {},
     "output_type": "execute_result"
    }
   ],
   "source": [
    "diabetes_dataset['Genital thrush'].unique()"
   ]
  },
  {
   "cell_type": "code",
   "execution_count": 455,
   "id": "537413ca",
   "metadata": {},
   "outputs": [
    {
     "data": {
      "text/plain": [
       "array(['No', 'Yes'], dtype=object)"
      ]
     },
     "execution_count": 455,
     "metadata": {},
     "output_type": "execute_result"
    }
   ],
   "source": [
    "diabetes_dataset['visual blurring'].unique()"
   ]
  },
  {
   "cell_type": "code",
   "execution_count": 456,
   "id": "a0d9bc45",
   "metadata": {},
   "outputs": [
    {
     "data": {
      "text/plain": [
       "array(['Yes', 'No'], dtype=object)"
      ]
     },
     "execution_count": 456,
     "metadata": {},
     "output_type": "execute_result"
    }
   ],
   "source": [
    "diabetes_dataset['Itching'].unique()"
   ]
  },
  {
   "cell_type": "code",
   "execution_count": 457,
   "id": "f1bbd73d",
   "metadata": {},
   "outputs": [
    {
     "data": {
      "text/plain": [
       "array(['No', 'Yes'], dtype=object)"
      ]
     },
     "execution_count": 457,
     "metadata": {},
     "output_type": "execute_result"
    }
   ],
   "source": [
    "diabetes_dataset['Irritability'].unique()"
   ]
  },
  {
   "cell_type": "code",
   "execution_count": 458,
   "id": "967d9f72",
   "metadata": {},
   "outputs": [
    {
     "data": {
      "text/plain": [
       "array(['Yes', 'No', nan], dtype=object)"
      ]
     },
     "execution_count": 458,
     "metadata": {},
     "output_type": "execute_result"
    }
   ],
   "source": [
    "diabetes_dataset['delayed healing'].unique()"
   ]
  },
  {
   "cell_type": "code",
   "execution_count": 459,
   "id": "bdc401e8",
   "metadata": {},
   "outputs": [
    {
     "data": {
      "text/plain": [
       "array(['No', 'Yes', nan], dtype=object)"
      ]
     },
     "execution_count": 459,
     "metadata": {},
     "output_type": "execute_result"
    }
   ],
   "source": [
    "diabetes_dataset['partial paresis'].unique()"
   ]
  },
  {
   "cell_type": "code",
   "execution_count": 460,
   "id": "4e876a09",
   "metadata": {},
   "outputs": [
    {
     "data": {
      "text/plain": [
       "array(['Yes', 'No'], dtype=object)"
      ]
     },
     "execution_count": 460,
     "metadata": {},
     "output_type": "execute_result"
    }
   ],
   "source": [
    "diabetes_dataset['muscle stiffness'].unique()"
   ]
  },
  {
   "cell_type": "code",
   "execution_count": 461,
   "id": "a6c67c39",
   "metadata": {},
   "outputs": [
    {
     "data": {
      "text/plain": [
       "array(['Yes', 'No'], dtype=object)"
      ]
     },
     "execution_count": 461,
     "metadata": {},
     "output_type": "execute_result"
    }
   ],
   "source": [
    "diabetes_dataset['Alopecia'].unique()"
   ]
  },
  {
   "cell_type": "code",
   "execution_count": 462,
   "id": "47fb09e4",
   "metadata": {},
   "outputs": [
    {
     "data": {
      "text/plain": [
       "array(['Yes', 'No'], dtype=object)"
      ]
     },
     "execution_count": 462,
     "metadata": {},
     "output_type": "execute_result"
    }
   ],
   "source": [
    "diabetes_dataset['Obesity'].unique()"
   ]
  },
  {
   "cell_type": "code",
   "execution_count": 475,
   "id": "2520b079",
   "metadata": {},
   "outputs": [
    {
     "data": {
      "text/plain": [
       "Age                   49\n",
       "Gender                 2\n",
       "Polyuria               2\n",
       "Polydipsia             2\n",
       "sudden weight loss     2\n",
       "weakness               2\n",
       "Polyphagia             2\n",
       "Genital thrush         2\n",
       "visual blurring        2\n",
       "Itching                2\n",
       "Irritability           2\n",
       "delayed healing        2\n",
       "partial paresis        2\n",
       "muscle stiffness       2\n",
       "Alopecia               2\n",
       "Obesity                2\n",
       "class                  2\n",
       "dtype: int64"
      ]
     },
     "execution_count": 475,
     "metadata": {},
     "output_type": "execute_result"
    }
   ],
   "source": [
    "diabetes_dataset.nunique()"
   ]
  },
  {
   "cell_type": "markdown",
   "id": "3a5e046a",
   "metadata": {},
   "source": [
    "###  3.Handling Missing Values \n",
    "\n",
    "#### Missing data is a common issue in real-world datasets and can significantly impact the quality of analysis and machine learning models. Handling missing values is a critical step in the data preprocessing pipeline, and there are several strategies to deal with this problem effectively.\n",
    "\n",
    "#### Following are the ways to handle missing data:\n",
    "#### Mean Value Imputation:\n",
    "##### Mean Value Imputation is a simple method for handling missing data by replacing missing values with the mean of the observed values for that variable. While it's straightforward, it can distort the distribution of the data and may not be suitable for variables with outliers.\n",
    "\n",
    "#### Median Value Imputation:\n",
    "##### Median Value Imputation is a straightforward approach for addressing missing data by replacing missing values with the median (middle value) of the observed data for that variable. It's robust to outliers and maintains the overall data distribution.\n",
    "\n",
    "#### Mode Value Imputation:\n",
    "##### Mode Value Imputation is a basic technique for handling missing data by substituting missing values with the most frequently occurring value (mode) in that variable. It's commonly used for categorical or discrete data but may not capture the full data distribution.\n",
    "\n",
    "### Since the data that I am using has all  categorical values (\"object\" as data type , I will use Mode value  Imputation to handle missing values and age is integer data type but it has no null values)\n",
    "\n"
   ]
  },
  {
   "cell_type": "code",
   "execution_count": 463,
   "id": "a74d73f4",
   "metadata": {},
   "outputs": [
    {
     "data": {
      "text/plain": [
       "Age                   0\n",
       "Gender                0\n",
       "Polyuria              2\n",
       "Polydipsia            1\n",
       "sudden weight loss    3\n",
       "weakness              0\n",
       "Polyphagia            0\n",
       "Genital thrush        0\n",
       "visual blurring       0\n",
       "Itching               0\n",
       "Irritability          0\n",
       "delayed healing       2\n",
       "partial paresis       3\n",
       "muscle stiffness      0\n",
       "Alopecia              0\n",
       "Obesity               0\n",
       "class                 0\n",
       "dtype: int64"
      ]
     },
     "execution_count": 463,
     "metadata": {},
     "output_type": "execute_result"
    }
   ],
   "source": [
    "### Checking null values in a dataset\n",
    "diabetes_dataset.isna().sum()"
   ]
  },
  {
   "cell_type": "code",
   "execution_count": 464,
   "id": "9a54a727",
   "metadata": {},
   "outputs": [
    {
     "name": "stdout",
     "output_type": "stream",
     "text": [
      "No No No No No\n"
     ]
    }
   ],
   "source": [
    "### Calculating the mode for each column to fill the null values \n",
    "mode_valuepolyuria=diabetes_dataset[diabetes_dataset['Polyuria'].notna()]['Polyuria'].mode()[0]\n",
    "mode_valuepolydipsia=diabetes_dataset[diabetes_dataset['Polydipsia'].notna()]['Polydipsia'].mode()[0]\n",
    "mode_valuesuddenweightloss=diabetes_dataset[diabetes_dataset['sudden weight loss'].notna()]['sudden weight loss'].mode()[0]\n",
    "mode_valuedelayedhealing=diabetes_dataset[diabetes_dataset['delayed healing'].notna()]['delayed healing'].mode()[0]\n",
    "mode_valuedpartialparesis=diabetes_dataset[diabetes_dataset['partial paresis'].notna()]['partial paresis'].mode()[0]\n",
    "\n",
    "print(mode_valuepolyuria\n",
    ",mode_valuepolydipsia\n",
    ",mode_valuesuddenweightloss\n",
    ",mode_valuedelayedhealing\n",
    ",mode_valuedpartialparesis)"
   ]
  },
  {
   "cell_type": "code",
   "execution_count": 465,
   "id": "3cd3a944",
   "metadata": {},
   "outputs": [],
   "source": [
    "## Filling null values with mode values\n",
    "diabetes_dataset['Polyuria']=diabetes_dataset['Polyuria'].fillna(mode_valuepolyuria)\n",
    "diabetes_dataset['Polydipsia']=diabetes_dataset['Polydipsia'].fillna(mode_valuepolydipsia)\n",
    "diabetes_dataset['sudden weight loss']=diabetes_dataset['sudden weight loss'].fillna(mode_valuesuddenweightloss)\n",
    "diabetes_dataset['delayed healing']=diabetes_dataset['delayed healing'].fillna(mode_valuedelayedhealing)\n",
    "diabetes_dataset['partial paresis']=diabetes_dataset['partial paresis'].fillna(mode_valuedpartialparesis)"
   ]
  },
  {
   "cell_type": "code",
   "execution_count": 466,
   "id": "99b0647e",
   "metadata": {},
   "outputs": [
    {
     "data": {
      "text/plain": [
       "Age                   0\n",
       "Gender                0\n",
       "Polyuria              0\n",
       "Polydipsia            0\n",
       "sudden weight loss    0\n",
       "weakness              0\n",
       "Polyphagia            0\n",
       "Genital thrush        0\n",
       "visual blurring       0\n",
       "Itching               0\n",
       "Irritability          0\n",
       "delayed healing       0\n",
       "partial paresis       0\n",
       "muscle stiffness      0\n",
       "Alopecia              0\n",
       "Obesity               0\n",
       "class                 0\n",
       "dtype: int64"
      ]
     },
     "execution_count": 466,
     "metadata": {},
     "output_type": "execute_result"
    }
   ],
   "source": [
    "### Checking null values in a dataset after filling with the mode values\n",
    "diabetes_dataset.isna().sum()"
   ]
  },
  {
   "cell_type": "markdown",
   "id": "62516493",
   "metadata": {},
   "source": [
    "### 4. Handling Imbalance Dataset \n",
    "\n",
    "#### In data mining, it's common to encounter imbalanced datasets, where one class or outcome significantly outnumbers the others. For example, in fraud detection, the number of non-fraudulent transactions typically far exceeds the number of fraudulent ones. Handling imbalanced datasets is crucial to ensure the accuracy and effectiveness of data mining models. There are two main ways to handle imbalance dataset \n",
    "\n",
    "#### a.Upsampling\n",
    "\n",
    "#### Upsampling is a valuable technique in handling imbalanced datasets in data mining. It involves increasing the number of instances in the minority class to balance the class distribution. This approach ensures that the model is exposed to more examples of the minority class, making it better at learning the patterns within it. However, upsampling should be applied judiciously, as it may lead to overfitting and increased computational costs, and it's often used in combination with other strategies like weighted loss functions or ensemble methods for improved results.\n",
    "\n",
    "\n",
    "#### b.Downsampling\n",
    "\n",
    "#### Downsampling is a strategy used to address imbalanced datasets in data mining. It aims to reduce the number of instances in the majority class, thereby equalizing class distribution. While downsampling simplifies the problem, it may result in information loss and reduced model performance on the majority class. Careful consideration of the trade-offs between simplification and data loss is crucial when employing this technique to ensure balanced and meaningful results."
   ]
  },
  {
   "cell_type": "code",
   "execution_count": 467,
   "id": "18b76712",
   "metadata": {},
   "outputs": [
    {
     "data": {
      "text/plain": [
       "Gender\n",
       "Male      330\n",
       "Female    193\n",
       "Name: count, dtype: int64"
      ]
     },
     "execution_count": 467,
     "metadata": {},
     "output_type": "execute_result"
    }
   ],
   "source": [
    "### Checking the count of Males and females in order to confirm whether the data is imbalance or not \n",
    "diabetes_dataset['Gender'].value_counts() "
   ]
  },
  {
   "cell_type": "code",
   "execution_count": 468,
   "id": "2ef566bd",
   "metadata": {},
   "outputs": [
    {
     "data": {
      "text/plain": [
       "class\n",
       "Positive    322\n",
       "Negative    201\n",
       "Name: count, dtype: int64"
      ]
     },
     "execution_count": 468,
     "metadata": {},
     "output_type": "execute_result"
    }
   ],
   "source": [
    "diabetes_dataset['class'].value_counts() "
   ]
  },
  {
   "cell_type": "markdown",
   "id": "390fb466",
   "metadata": {},
   "source": [
    "#### As we can see from the values above there are 330 Males and 193 Females. Since there is no huge gap between the Male and Female count we can say that the Data is not  imbalance.\n",
    "\n",
    "#### Also, class is out target variable which has 318 positive results and 201 negative results.since there is not huge gap between the number of positive and negative values. It is assured that the dataset is not imbalanced."
   ]
  },
  {
   "cell_type": "markdown",
   "id": "de0f10de",
   "metadata": {},
   "source": [
    "### 5. Handling Outliers\n",
    "#### Outliers in a dataset can have a substantial impact on prediction in data mining. They often lead to model bias, as they can disproportionately influence model parameters, causing predictions to be inaccurate and adversely affecting model performance metrics. In particular, linear regression models are vulnerable to outliers, as they can pull the regression line towards extreme values, resulting in predictions far from the actual data for the majority."
   ]
  },
  {
   "cell_type": "code",
   "execution_count": 469,
   "id": "4239b9ff",
   "metadata": {},
   "outputs": [
    {
     "data": {
      "text/plain": [
       "<Axes: >"
      ]
     },
     "execution_count": 469,
     "metadata": {},
     "output_type": "execute_result"
    },
    {
     "data": {
      "image/png": "[encoded data removed]",
      "text/plain": [
       "<Figure size 640x480 with 1 Axes>"
      ]
     },
     "metadata": {},
     "output_type": "display_data"
    }
   ],
   "source": [
    "sns.boxplot(diabetes_dataset)"
   ]
  },
  {
   "cell_type": "markdown",
   "id": "d31797c9",
   "metadata": {},
   "source": [
    "#### From the above boxplot , we can see the outliers in our dataset are of the ages above 80 , so we will drop the outlier points to have proper accuracy of prediction"
   ]
  },
  {
   "cell_type": "code",
   "execution_count": 470,
   "id": "5771281e",
   "metadata": {},
   "outputs": [],
   "source": [
    "### Dropping outliers \n",
    "indexAge = diabetes_dataset[(diabetes_dataset['Age'] > 80)].index\n",
    "diabetes_dataset.drop(indexAge , inplace=True)"
   ]
  },
  {
   "cell_type": "code",
   "execution_count": 471,
   "id": "5c0f22c8",
   "metadata": {},
   "outputs": [
    {
     "data": {
      "text/plain": [
       "<Axes: >"
      ]
     },
     "execution_count": 471,
     "metadata": {},
     "output_type": "execute_result"
    },
    {
     "data": {
      "image/png": "[encoded data removed]",
      "text/plain": [
       "<Figure size 640x480 with 1 Axes>"
      ]
     },
     "metadata": {},
     "output_type": "display_data"
    }
   ],
   "source": [
    "## reassuring that the dataset has no outliers left.\n",
    "sns.boxplot(diabetes_dataset)"
   ]
  },
  {
   "cell_type": "markdown",
   "id": "47936536",
   "metadata": {},
   "source": [
    "## Encoding  \n",
    "\n",
    "#### Since the values of all the  columns  except age is Categorical (i.e Yes and  No ). In order to convert this data into numerical data so that it can be given  as input to classifier model , I used a technique called \"One-Hot Encoding\" to encode the categorical data in the dataset you provided. Here's a brief explanation of why I chose this technique and how it works:\n",
    "\n",
    "#### I used a technique called \"One-Hot Encoding\" to encode the categorical data in the dataset you provided. Here's a brief explanation of why I chose this technique and how it works:\n",
    "\n",
    "#### One-Hot Encoding:\n",
    "\n",
    "#### What is One-Hot Encoding?: One-Hot Encoding is a method used to convert categorical variables into a numerical format that is suitable for machine learning algorithms. It creates binary columns (0s and 1s) for each category or label in a categorical variable.\n",
    "\n",
    "#### Why One-Hot Encoding?: I used One-Hot Encoding for the following reasons:\n",
    "\n",
    "#### Categorical Data: In your dataset, many columns such as \"Gender,\" \"Polyuria,\" \"Polydipsia,\" and others are categorical, meaning they represent discrete categories or labels.\n",
    "\n",
    "#### Preserving Information: One-Hot Encoding preserves the information in the original categorical variables while making it suitable for machine learning models. Each category is converted into a separate binary column, and each row is marked with a 1 in the columns corresponding to the categories present in that row.\n",
    "\n",
    "#### Handling Non-Ordinal Data: One-Hot Encoding is especially useful when dealing with categorical variables that have no inherent order or rank. It avoids treating categorical data as ordinal when it is not.\n",
    "\n",
    "#### Advantages of One-Hot Encoding:\n",
    "\n",
    "#### Preserves Information: It retains all the information from the original categorical variable.\n",
    "#### No Assumption of Ordinality: It doesn't assume an ordinal relationship between categories.\n",
    "#### Suitable for Most Models: One-Hot Encoding is compatible with a wide range of machine learning algorithms.\n",
    "\n",
    "\n",
    "#### Drawbacks of One-Hot Encoding:\n",
    "\n",
    "#### Curse of Dimensionality: It can increase the dimensionality of your dataset, which can be problematic for high-cardinality categorical variables.\n",
    "#### Potential Collinearity: It may introduce multicollinearity, as one column can be predicted from the others. This can affect some models like linear regression.\n",
    "#### In your specific case, the One-Hot Encoding technique was chosen because it's a common and effective method for handling categorical data, and it ensures that the information in each category is appropriately represented for classification models. It's especially suitable when there's no ordinal relationship among the categories, making it a good choice for your dataset.\n"
   ]
  },
  {
   "cell_type": "code",
   "execution_count": 472,
   "id": "fe8427a5",
   "metadata": {},
   "outputs": [
    {
     "name": "stdout",
     "output_type": "stream",
     "text": [
      "     Age     class  Gender_Female  Gender_Male  Polyuria_No  Polyuria_Yes  \\\n",
      "0     40  Positive          False         True         True         False   \n",
      "1     58  Positive          False         True         True         False   \n",
      "2     41  Positive          False         True        False          True   \n",
      "3     45  Positive          False         True         True         False   \n",
      "4     60  Positive          False         True        False          True   \n",
      "..   ...       ...            ...          ...          ...           ...   \n",
      "518   32  Negative           True        False         True         False   \n",
      "519   42  Negative          False         True         True         False   \n",
      "520   39  Negative           True        False         True         False   \n",
      "521   43  Positive          False         True        False          True   \n",
      "522   56  Positive          False         True         True         False   \n",
      "\n",
      "     Polydipsia_No  Polydipsia_Yes  sudden weight loss_No  \\\n",
      "0            False            True                   True   \n",
      "1             True           False                   True   \n",
      "2             True           False                   True   \n",
      "3             True           False                  False   \n",
      "4            False            True                  False   \n",
      "..             ...             ...                    ...   \n",
      "518           True           False                   True   \n",
      "519           True           False                   True   \n",
      "520          False            True                   True   \n",
      "521          False            True                   True   \n",
      "522           True           False                   True   \n",
      "\n",
      "     sudden weight loss_Yes  ...  delayed healing_No  delayed healing_Yes  \\\n",
      "0                     False  ...               False                 True   \n",
      "1                     False  ...                True                False   \n",
      "2                     False  ...               False                 True   \n",
      "3                      True  ...               False                 True   \n",
      "4                      True  ...               False                 True   \n",
      "..                      ...  ...                 ...                  ...   \n",
      "518                   False  ...               False                 True   \n",
      "519                   False  ...                True                False   \n",
      "520                   False  ...                True                False   \n",
      "521                   False  ...                True                False   \n",
      "522                   False  ...                True                False   \n",
      "\n",
      "     partial paresis_No  partial paresis_Yes  muscle stiffness_No  \\\n",
      "0                  True                False                False   \n",
      "1                 False                 True                 True   \n",
      "2                  True                False                False   \n",
      "3                  True                False                 True   \n",
      "4                 False                 True                False   \n",
      "..                  ...                  ...                  ...   \n",
      "518                True                False                 True   \n",
      "519                True                False                 True   \n",
      "520                True                False                 True   \n",
      "521                True                False                False   \n",
      "522                True                False                 True   \n",
      "\n",
      "     muscle stiffness_Yes  Alopecia_No  Alopecia_Yes  Obesity_No  Obesity_Yes  \n",
      "0                    True        False          True       False         True  \n",
      "1                   False        False          True        True        False  \n",
      "2                    True        False          True        True        False  \n",
      "3                   False         True         False        True        False  \n",
      "4                    True        False          True       False         True  \n",
      "..                    ...          ...           ...         ...          ...  \n",
      "518                 False        False          True        True        False  \n",
      "519                 False         True         False        True        False  \n",
      "520                 False         True         False        True        False  \n",
      "521                  True        False          True       False         True  \n",
      "522                 False         True         False       False         True  \n",
      "\n",
      "[519 rows x 32 columns]\n"
     ]
    }
   ],
   "source": [
    "categorical_cols = [\"Gender\", \"Polyuria\", \"Polydipsia\", \"sudden weight loss\", \"weakness\",\"Polyphagia\", \"Genital thrush\", \"visual blurring\", \"Itching\", \"Irritability\", \"delayed healing\", \"partial paresis\", \"muscle stiffness\", \"Alopecia\", \"Obesity\"]\n",
    "diabetes_dataset_encoded = pd.get_dummies(diabetes_dataset, columns=categorical_cols)\n",
    "print(diabetes_dataset_encoded)"
   ]
  },
  {
   "cell_type": "code",
   "execution_count": 473,
   "id": "13ca0489",
   "metadata": {},
   "outputs": [],
   "source": [
    "diabetes_dataset_encoded.to_csv(\"diabetes_preprocessed_dataset.csv\", index=False)"
   ]
  },
  {
   "cell_type": "markdown",
   "id": "3ef04830",
   "metadata": {},
   "source": [
    "### Summary\n",
    "\n",
    "#### I worked with a dataset aimed at predicting whether a person has a specific medical condition, diabetes. Here's a concise summary of the key steps and observations:\n",
    "\n",
    "#### Binary Classification Task: The dataset is structured as a binary classification problem, focusing on predicting whether an individual is \"Positive\" or \"Negative\" for diabetes.\n",
    "\n",
    "#### Categorical Features: Most of the dataset features are categorical, representing the presence or absence of symptoms or medical indicators. \"Gender\" is the only numerical feature, representing the patient's age.\n",
    "\n",
    "#### Data Preprocessing: Several data preprocessing steps were performed, including checking data types, handling missing values using mode imputation, and removing outliers to enhance the dataset's quality.\n",
    "\n",
    "#### Handling Imbalanced Data: The dataset was found to be reasonably balanced, with 330 males and 193 females. This balance is essential for effective model training.\n",
    "\n",
    "#### Outlier Removal: Outliers were identified in the \"Age\" column and subsequently removed to improve model performance and accuracy.\n",
    "\n",
    "#### One-Hot Encoding: To convert categorical data into a suitable format for machine learning models, One-Hot Encoding was applied. It transformed categorical variables into binary columns for each category, preserving the information while making it suitable for modeling.\n",
    "\n",
    "#### Data Dimensionality: The dataset's feature dimensionality is manageable, making it suitable for a variety of machine learning models, including both simple and complex ones.\n",
    "\n",
    "#### Data Export: The preprocessed dataset was saved as \"diabetes_preprocessed_dataset.csv\" for further analysis and modeling.\n",
    "\n",
    "#### Overall, the assignment covered crucial data preprocessing steps, ensuring data quality, and readiness for model building in a binary classification task focused on diabetes prediction."
   ]
  },
  {
   "cell_type": "code",
   "execution_count": null,
   "id": "433203b2",
   "metadata": {},
   "outputs": [],
   "source": []
  }
 ],
 "metadata": {
  "kernelspec": {
   "display_name": "Python 3 (ipykernel)",
   "language": "python",
   "name": "python3"
  },
  "language_info": {
   "codemirror_mode": {
    "name": "ipython",
    "version": 3
   },
   "file_extension": ".py",
   "mimetype": "text/x-python",
   "name": "python",
   "nbconvert_exporter": "python",
   "pygments_lexer": "ipython3",
   "version": "3.11.4"
  }
 },
 "nbformat": 4,
 "nbformat_minor": 5
}
